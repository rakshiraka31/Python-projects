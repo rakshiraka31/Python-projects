{
 "cells": [
  {
   "cell_type": "code",
   "execution_count": 1,
   "metadata": {},
   "outputs": [
    {
     "name": "stdout",
     "output_type": "stream",
     "text": [
      "\n"
     ]
    }
   ],
   "source": [
    "print()\n",
    "# type()\n",
    "# int()\n",
    "# str()\n",
    "# float()"
   ]
  },
  {
   "cell_type": "code",
   "execution_count": 2,
   "metadata": {},
   "outputs": [],
   "source": [
    "# def <function_name>():\n",
    "#     <operations>\n",
    "\n",
    "# <function_name>()"
   ]
  },
  {
   "cell_type": "code",
   "execution_count": 3,
   "metadata": {},
   "outputs": [
    {
     "name": "stdout",
     "output_type": "stream",
     "text": [
      "Hello World\n"
     ]
    }
   ],
   "source": [
    "def hello():\n",
    "    print(\"Hello World\")\n",
    "    \n",
    "hello()"
   ]
  },
  {
   "cell_type": "code",
   "execution_count": 4,
   "metadata": {},
   "outputs": [
    {
     "name": "stdout",
     "output_type": "stream",
     "text": [
      "Enter l = 33\n",
      "Enter b = 22\n",
      "The value of a =  726\n"
     ]
    }
   ],
   "source": [
    "def area():\n",
    "    l = int(input(\"Enter l = \")) #local variable\n",
    "    b = int(input(\"Enter b = \")) #local variable\n",
    "    a = l*b                      \n",
    "    print(\"The value of a = \",a)\n",
    "area()"
   ]
  },
  {
   "cell_type": "code",
   "execution_count": 5,
   "metadata": {},
   "outputs": [
    {
     "name": "stdout",
     "output_type": "stream",
     "text": [
      "Enter l = 66\n",
      "Enter b = 33\n",
      "The value of a =  2178\n"
     ]
    }
   ],
   "source": [
    "l = int(input(\"Enter l = \")) #global variable\n",
    "b = int(input(\"Enter b = \")) #global variable\n",
    "def area():\n",
    "    a = l*b                      #local variable\n",
    "    print(\"The value of a = \",a)\n",
    "area()"
   ]
  },
  {
   "cell_type": "code",
   "execution_count": 6,
   "metadata": {},
   "outputs": [],
   "source": [
    "# function with no argument and no return type\n",
    "# function with argument and no return type\n",
    "# function with no argument and return type\n",
    "# function with argument and return type"
   ]
  },
  {
   "cell_type": "code",
   "execution_count": 7,
   "metadata": {},
   "outputs": [
    {
     "name": "stdout",
     "output_type": "stream",
     "text": [
      "Enter l = 44\n",
      "Enter b = 33\n",
      "The value of a =  1452\n"
     ]
    }
   ],
   "source": [
    "# function with no argument and no return type\n",
    "l = int(input(\"Enter l = \")) #global variable\n",
    "b = int(input(\"Enter b = \")) #global variable\n",
    "def area():\n",
    "    a = l*b                      #local variable\n",
    "    print(\"The value of a = \",a)\n",
    "area()"
   ]
  },
  {
   "cell_type": "code",
   "execution_count": 8,
   "metadata": {},
   "outputs": [
    {
     "name": "stdout",
     "output_type": "stream",
     "text": [
      "Enter l = 43\n",
      "Enter b = 33\n",
      "The value of a =  1419\n"
     ]
    }
   ],
   "source": [
    "# function with argument and no return type\n",
    "def area(l,b):\n",
    "    a = l*b                  #local variable\n",
    "    print(\"The value of a = \",a)\n",
    "    \n",
    "l = int(input(\"Enter l = \"))\n",
    "b = int(input(\"Enter b = \"))\n",
    "area(l,b)"
   ]
  },
  {
   "cell_type": "code",
   "execution_count": 9,
   "metadata": {},
   "outputs": [
    {
     "name": "stdout",
     "output_type": "stream",
     "text": [
      "Enter l = 43\n",
      "Enter b = 33\n",
      "Enter h = 22\n",
      "The value of a =  1419\n",
      "The value of a =  31218\n"
     ]
    }
   ],
   "source": [
    "# function with argument and no return type\n",
    "def area(l,b):\n",
    "    a = l*b                  #local variable\n",
    "    print(\"The value of a = \",a)\n",
    "\n",
    "def volume(l,b,h):\n",
    "    v = l*b*h\n",
    "    print(\"The value of a = \",v)\n",
    "    \n",
    "l = int(input(\"Enter l = \"))\n",
    "b = int(input(\"Enter b = \"))\n",
    "h = int(input(\"Enter h = \"))\n",
    "area(l,b)\n",
    "volume(l,b,h)"
   ]
  },
  {
   "cell_type": "code",
   "execution_count": 10,
   "metadata": {},
   "outputs": [
    {
     "name": "stdout",
     "output_type": "stream",
     "text": [
      "The value of a =  400\n",
      "400\n"
     ]
    }
   ],
   "source": [
    "b = 40\n",
    "def area(l):\n",
    "    global a\n",
    "    a = l*b                  #local variable\n",
    "    print(\"The value of a = \",a)\n",
    "area(10)\n",
    "print(a)"
   ]
  },
  {
   "cell_type": "code",
   "execution_count": 11,
   "metadata": {},
   "outputs": [
    {
     "name": "stdout",
     "output_type": "stream",
     "text": [
      "Ram\n",
      "Shyam\n",
      "Hari\n"
     ]
    }
   ],
   "source": [
    "def name(n = \"Ram\"):\n",
    "    print(n)\n",
    "    \n",
    "name()\n",
    "name(\"Shyam\")\n",
    "name(\"Hari\")"
   ]
  },
  {
   "cell_type": "code",
   "execution_count": null,
   "metadata": {},
   "outputs": [],
   "source": [
    "# function with argument and no return type\n",
    "def area(y):\n",
    "    l,b = y\n",
    "    a = l*b                  #local variable\n",
    "    print(\"The value of a = \",a)\n",
    "    \n",
    "l = int(input(\"Enter l = \"))\n",
    "b = int(input(\"Enter b = \"))\n",
    "x = [l,b]\n",
    "print(x)\n",
    "area(x)"
   ]
  },
  {
   "cell_type": "code",
   "execution_count": 2,
   "metadata": {},
   "outputs": [
    {
     "name": "stdout",
     "output_type": "stream",
     "text": [
      "(3, 2)\n"
     ]
    }
   ],
   "source": [
    "a =3,2\n",
    "print(a)"
   ]
  },
  {
   "cell_type": "code",
   "execution_count": 3,
   "metadata": {},
   "outputs": [
    {
     "name": "stdout",
     "output_type": "stream",
     "text": [
      "100\n",
      "20\n"
     ]
    }
   ],
   "source": [
    "l,b = [100, 20]\n",
    "print(l)\n",
    "print(b)"
   ]
  },
  {
   "cell_type": "code",
   "execution_count": 4,
   "metadata": {},
   "outputs": [
    {
     "name": "stdout",
     "output_type": "stream",
     "text": [
      "Hello World\n"
     ]
    }
   ],
   "source": [
    "# function with no argument and return type\n",
    "def hello():\n",
    "    return \"Hello World\"\n",
    "    \n",
    "print(hello())"
   ]
  },
  {
   "cell_type": "code",
   "execution_count": 5,
   "metadata": {},
   "outputs": [
    {
     "name": "stdout",
     "output_type": "stream",
     "text": [
      "Enter l = 23\n",
      "Enter b = 33\n",
      "The area is =  759\n",
      "Enter h = 22\n",
      "The volume is =  16698\n"
     ]
    }
   ],
   "source": [
    "def area():\n",
    "    l = int(input(\"Enter l = \")) #local variable\n",
    "    b = int(input(\"Enter b = \")) #local variable\n",
    "    a = l*b                      \n",
    "    return a\n",
    "ar = area()\n",
    "print(\"The area is = \",ar)\n",
    "h = int(input(\"Enter h = \"))\n",
    "v = ar*h\n",
    "print(\"The volume is = \",v)"
   ]
  },
  {
   "cell_type": "code",
   "execution_count": 6,
   "metadata": {},
   "outputs": [
    {
     "name": "stdout",
     "output_type": "stream",
     "text": [
      "Enter l = 33\n",
      "Enter b = 22\n",
      "Enter h = 33\n",
      "(726, 23958)\n",
      "The area is = 726\n",
      "the volume is =  23958\n"
     ]
    }
   ],
   "source": [
    "def area():\n",
    "    l = int(input(\"Enter l = \")) #local variable\n",
    "    b = int(input(\"Enter b = \")) #local variable\n",
    "    h = int(input(\"Enter h = \"))\n",
    "    a = l*b\n",
    "    v = a*h\n",
    "    return a,v\n",
    "ar = area()\n",
    "print(ar)\n",
    "area , volume = ar\n",
    "print(\"The area is =\",area)\n",
    "print(\"the volume is = \",volume)"
   ]
  },
  {
   "cell_type": "code",
   "execution_count": null,
   "metadata": {},
   "outputs": [],
   "source": [
    "# function with argument and return type\n",
    "def area(l,b,h):\n",
    "    a = l*b\n",
    "    v = a*h\n",
    "    \n",
    "    return a,v\n",
    "\n",
    "l = int(input(\"Enter l = \")) #local variable\n",
    "b = int(input(\"Enter b = \")) #local variable\n",
    "h = int(input(\"Enter h = \"))\n",
    "\n",
    "ar = area(l,b,h)\n",
    "print(ar)\n",
    "area , volume = ar\n",
    "print(\"The area is =\",area)\n",
    "print(\"the volume is = \",volume)"
   ]
  },
  {
   "cell_type": "code",
   "execution_count": null,
   "metadata": {},
   "outputs": [],
   "source": [
    "# function with argument and return type\n",
    "def area(l,b):\n",
    "    a = l*b\n",
    "    return a\n",
    "\n",
    "def volume(l,b,h):\n",
    "    v = area(l,b)*h\n",
    "    return v\n",
    "\n",
    "l = int(input(\"Enter l = \")) #local variable\n",
    "b = int(input(\"Enter b = \")) #local variable\n",
    "h = int(input(\"Enter h = \"))\n",
    "\n",
    "ar = area(l,b)\n",
    "vo = volume(l,b,h)\n",
    "print(\"The area is =\",ar)\n",
    "print(\"the volume is = \",vo)"
   ]
  },
  {
   "cell_type": "code",
   "execution_count": null,
   "metadata": {},
   "outputs": [],
   "source": [
    "def hello():\n",
    "    print(\"Hello World\")\n",
    "    x = input(\"Enter 'y' for more Hello World =  \")\n",
    "    if x == 'y':\n",
    "        hello()\n",
    "    \n",
    "hello()"
   ]
  },
  {
   "cell_type": "code",
   "execution_count": null,
   "metadata": {},
   "outputs": [],
   "source": [
    "# if <condition>:\n",
    "#     <opertaions>\n",
    "# elif <condition>:\n",
    "#     <operations>\n",
    "# else:\n",
    "#     <operations>"
   ]
  },
  {
   "cell_type": "code",
   "execution_count": 1,
   "metadata": {},
   "outputs": [
    {
     "name": "stdout",
     "output_type": "stream",
     "text": [
      "Enter the value of r = 33\n",
      "The area is =  3421.194399759285\n"
     ]
    }
   ],
   "source": [
    "import math as m\n",
    "r = int(input(\"Enter the value of r = \"))\n",
    "a = m.pi*(m.pow(r,2))\n",
    "print(\"The area is = \",a)"
   ]
  },
  {
   "cell_type": "code",
   "execution_count": 2,
   "metadata": {},
   "outputs": [
    {
     "data": {
      "text/plain": [
       "1.0"
      ]
     },
     "execution_count": 2,
     "metadata": {},
     "output_type": "execute_result"
    }
   ],
   "source": [
    "import math as m\n",
    "a = m.pi/2\n",
    "m.sin(a)"
   ]
  },
  {
   "cell_type": "code",
   "execution_count": 3,
   "metadata": {},
   "outputs": [
    {
     "data": {
      "text/plain": [
       "5.0"
      ]
     },
     "execution_count": 3,
     "metadata": {},
     "output_type": "execute_result"
    }
   ],
   "source": [
    "# import math as m\n",
    "\n",
    "b = 625\n",
    "m.pow(b,1/4)"
   ]
  },
  {
   "cell_type": "code",
   "execution_count": null,
   "metadata": {},
   "outputs": [],
   "source": []
  }
 ],
 "metadata": {
  "kernelspec": {
   "display_name": "Python 3",
   "language": "python",
   "name": "python3"
  },
  "language_info": {
   "codemirror_mode": {
    "name": "ipython",
    "version": 3
   },
   "file_extension": ".py",
   "mimetype": "text/x-python",
   "name": "python",
   "nbconvert_exporter": "python",
   "pygments_lexer": "ipython3",
   "version": "3.8.5"
  }
 },
 "nbformat": 4,
 "nbformat_minor": 4
}
